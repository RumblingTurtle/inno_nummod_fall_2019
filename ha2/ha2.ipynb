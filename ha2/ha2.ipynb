{
  "nbformat": 4,
  "nbformat_minor": 0,
  "metadata": {
    "kernelspec": {
      "display_name": "Python 3",
      "language": "python",
      "name": "python3"
    },
    "language_info": {
      "codemirror_mode": {
        "name": "ipython",
        "version": 3
      },
      "file_extension": ".py",
      "mimetype": "text/x-python",
      "name": "python",
      "nbconvert_exporter": "python",
      "pygments_lexer": "ipython3",
      "version": "3.7.1"
    },
    "colab": {
      "name": "HW21.ipynb",
      "version": "0.3.2",
      "provenance": [],
      "collapsed_sections": []
    }
  },
  "cells": [
    {
      "cell_type": "markdown",
      "metadata": {
        "id": "reYaW6d0ByzZ",
        "colab_type": "text"
      },
      "source": [
        "## 1. Formulate the statement of the interpolation problem with Cubic Spline [mathematical formula]\n"
      ]
    },
    {
      "cell_type": "markdown",
      "metadata": {
        "id": "utWp0LAzByzf",
        "colab_type": "text"
      },
      "source": [
        "Given a set of $n$ points $x_i \\in [a,b]$ and values of an unknown function $f(x)$ in these points as $f(x_i)=y_i$ an approximation of $f(x)$ has to be constructed. This can be done using a polynomials of a third degree $S_{3,m}(x)$ for each interval $[x_i,x_{i+1}]$ where $m \\in [1,n-1]$. $S_3(X)\\in C^2[a,b]$ meaning it is twice differentiable with each derivative continuous.\n",
        "\n",
        "*$S_3(x)=\\bigcup_{m=1}^{n-1} S_{3,m}(x)$\n",
        "\n",
        "\n",
        "\n"
      ]
    },
    {
      "cell_type": "markdown",
      "metadata": {
        "id": "V3BUiNuKByzh",
        "colab_type": "text"
      },
      "source": [
        "## 2. Formulate the functional and differential compatibility conditions [mathematical formula]"
      ]
    },
    {
      "cell_type": "markdown",
      "metadata": {
        "id": "VRcXh6knByzk",
        "colab_type": "text"
      },
      "source": [
        "$j$ is a polynomial degree\n",
        "\n",
        "$\\delta S_j(x_i) = S_j(x_i)-f(x_i)=0$\n",
        "\n",
        "$\\delta S^{(p)}_j(x_i)=S^{(p)}_j(x_i)-f^{(p)}(x_i)=0,\\ \\ p=1,2...$"
      ]
    },
    {
      "cell_type": "markdown",
      "metadata": {
        "id": "wgLltg5uByzn",
        "colab_type": "text"
      },
      "source": [
        "## 3. Formulate stitching conditions [mathematical formula]"
      ]
    },
    {
      "cell_type": "markdown",
      "metadata": {
        "id": "fqO3N4fYByzt",
        "colab_type": "text"
      },
      "source": [
        "$j$ is a polynomial degree, $m$ is the index of $m$'th interval's polynomial $m \\in [1,n-1]$\n",
        "\n",
        "$S_{j,m-1}^{(p)}(x)|_{x=x_i}=S_{j,m}^{(p)}(x)|_{x=x_i}$\n",
        "\n",
        "note that p in stiching condition should not be equal to p from (2) "
      ]
    },
    {
      "cell_type": "markdown",
      "metadata": {
        "id": "-VQ7R_XWByzv",
        "colab_type": "text"
      },
      "source": [
        "## 4. Justify why these conditions provide you with the required smoothness [thesis text, no more than 500 characters]"
      ]
    },
    {
      "cell_type": "markdown",
      "metadata": {
        "id": "_j2guWZWByzz",
        "colab_type": "text"
      },
      "source": [
        "Functional condition solves interpolation problem by satisfying condition $f(x_i)=y_i$.Compatibility conditions with stiching conditions guarantee continuity in all points $x_i$ in between all left and right hand side polynomials $S_{j,m-1}$->$S_{j,m}$ satisfying condition $S_j(X)\\in C_r[a,b]$. Stiching condition does not introduce an unknown variable if a form of $f^{(p)}(x_i)$ thus helps us solve resulting equation system."
      ]
    },
    {
      "cell_type": "markdown",
      "metadata": {
        "id": "bk4ACAepByz0",
        "colab_type": "text"
      },
      "source": [
        "## 5. Derive dependency formula: the dependence of the second derivatives at the grid nodes on the increment of the function (the function values difference on the grid nodes). [Mathematical formulas derivation. Detailed, with clear transitions]"
      ]
    },
    {
      "cell_type": "markdown",
      "metadata": {
        "id": "yZ_jQhs9Byz3",
        "colab_type": "text"
      },
      "source": [
        "Given third degree polynomial: \n",
        "\n",
        "$S_{3,i}(x) = a_{0,i}+ a_{1,i}(x-x_i) + a_{2,i}(x-x_i)^2+a_{3,i}(x-x_i)^3 \\ \\ \\ \\ \\ (0)$\n",
        "\n",
        "\n",
        "For $i$'th interval $[x_i,x_{i+1}]$ four compatibility equations are taken for both ends of the interval:\n",
        "\n",
        "\n",
        "$\\delta S_{3,i}(x_i) = S_{3,i}(x_i)-f(x_i)=0 \\ \\ \\ \\ \\ (1)$\n",
        "\n",
        "$\\delta S_{3,i}(x_{i+1}) = S_{3,i}(x_{i+1})-f(x_{i+1})=0 \\ \\ \\ \\ \\ (2)$\n",
        "\n",
        "\n",
        "$\\delta S''_{3,i}(x_i)=S''_{3,i}(x_i)-f''(x_i)=0 \\ \\ \\ \\ \\ (3)$\n",
        "\n",
        "\n",
        "$\\delta S''_{3,i}(x_{i+1})=S''_{3,i}(x_{i+1})-f''(x_{i+1})=0 \\ \\ \\ \\ \\ (4)$\n",
        "\n",
        "Substituting $x_i$ and $x_{i+1}$ into (0)$:\n",
        "\n",
        "$S_{3,i}(x_i) = a_{0,i}+ a_{1,i}(x_i-x_i) + a_{2,i}(x_i-x_i)^2+a_{3,i}(x_i-x_i)^3 = a_{0,i}$\n",
        "\n",
        "$S_{3,i}(x_{i+1}) = a_{0,i}+ a_{1,i}(x_{i+1}-x_i) + a_{2,i}(x_{i+1}-x_i)^2+a_{3,i}(x_{i+1}-x_i)^3$\n",
        "\n",
        "$(1) = a_{0,i}-f(x_i)=0 => f(x_i) = a_{0,i} \\ \\ \\ \\ \\ (5)$\n",
        "\n",
        "$(2) = a_{0,i}+ a_{1,i}(x_{i+1}-x_i) + a_{2,i}(x_{i+1}-x_i)^2+a_{3,i}(x_{i+1}-x_i)^3-f(x_{i+1})=0$\n",
        "\n",
        "$(2)=0 => f(x_{i+1}) = a_{0,i}+ a_{1,i}(x_{i+1}-x_i) + a_{2,i}(x_{i+1}-x_i)^2+a_{3,i}(x_{i+1}-x_i)^3  \\ \\ \\ \\ \\ (6)$\n",
        "\n",
        "Second derivative of $(0)$ with resprect to $x$ equals to:\n",
        "\n",
        "$S''_{3,i}(x)= (S'_{3,i}(x))' = (a_{1,i} + 2a_{2,i}(x-x_i)+3a_{3,i}(x-x_i)^2)' = e2a_{2,i}+6a_{3,i}(x-x_i)$\n",
        "\n",
        "Substituting $x_i$ and $x_{i+1}$ into $S''_{3,i}(x)$:\n",
        "\n",
        "$S''_{3,i}(x_i)=2a_{2,i}$\n",
        "\n",
        "$S''_{3,i}(x_{i+1})=2a_{2,i}+6a_{3,i}(x_{i+1}-x_i)$\n",
        "\n",
        "$(3) = 2a_{2,i}-f''(x_i)=0 => f''(x_i)=2a_{2,i}  \\ \\ \\ \\ \\ (7)$\n",
        "\n",
        "$(4) = 2a_{2,i}+6a_{3,i}(x_{i+1}-x_i)-f''(x_{i+1})=0 => f''(x_{i+1})=2a_{2,i}+6a_{3,i}(x_{i+1}-x_i)  \\ \\ \\ \\ \\ (8)$\n",
        "\n",
        "If we replace:\n",
        "\n",
        "$(x_{i+1}-x_i) = h_{i+1}$\n",
        "\n",
        "$f(x_i)=f_i$\n",
        "\n",
        "$f(x_{i+1})=f_{i+1}$\n",
        "\n",
        "$f''(x_i) = m_{i}$\n",
        "\n",
        "$f''(x_{i+1}) = m_{i+1}$\n",
        "\n",
        "In $(5),(6),(7),(8)$ we get:\n",
        "\n",
        "$f_i = a_{0,i}$\n",
        "\n",
        "$f_{i+1} = a_{0,i}+ a_{1,i}h_{i+1} + a_{2,i}h_{i+1}^2+a_{3,i}h_{i+1}^3 $\n",
        "\n",
        "$m_i=2a_{2,i}$\n",
        "\n",
        "$m_{i+1}=2a_{2,i}+6a_{3,i}h_{i+1}$\n",
        "\n",
        "Giving us values of $a_{0,i}=f_i$ and $a_{2,i}=\\dfrac{m_i}{2}$ right away. $a_{3,i}$ is next:\n",
        "\n",
        "$2a_{2,i}+6a_{3,i}h_{i+1} = m_{i+1}$\n",
        "\n",
        "$6a_{3,i}h_{i+1} = m_{i+1}-2a_{2,i}$\n",
        "\n",
        "$a_{3,i} = \\dfrac{m_{i+1}-2a_{2,i}}{6h_{i+1}} = \\dfrac{m_{i+1}-m_i}{6h_{i+1}}$\n",
        "\n",
        "And the last one is $a_{1,i}$:\n",
        "\n",
        "$a_{0,i}+ a_{1,i}h_{i+1} + a_{2,i}h_{i+1}^2+a_{3,i}h_{i+1}^3 = f_{i+1}$\n",
        "\n",
        "$a_{1,i}h_{i+1}= f_{i+1}-a_{0,i}-a_{2,i}h_{i+1}^2-a_{3,i}h_{i+1}^3$\n",
        "\n",
        "$a_{1,i}= \\dfrac{f_{i+1}-a_{0,i}}{h_{i+1}}-a_{2,i}h_{i+1}-a_{3,i}h_{i+1}^2$\n",
        "\n",
        "$a_{1,i}= \\dfrac{f_{i+1}-f_i}{h_{i+1}}-\\dfrac{m_i}{2}h_{i+1}-\\dfrac{m_{i+1}-m_i}{6}h_{i+1}$\n",
        "\n",
        "According to stiching condition\n",
        "\n",
        "$S'_{3,i-1}(x)|_{x=x_i}=S'_{3,i}(x)|_{x=x_i}$\n",
        "\n",
        "$S'_{3,i}(x) = a_{1,i} + 2a_{2,i}(x-x_i)+3a_{3,i}(x-x_i)^2$\n",
        "\n",
        "$S'_{3,i}(x_i) = a_{1,i} = \\dfrac{1}{h_{i+1}}\\Delta{f_i}-\\dfrac{h_{i+1}}{2}m_i-\\dfrac{h_{i+1}}{6}\\Delta{m_i}$\n",
        "\n",
        "$S'_{3,i-1}(x_i) = a_{1,i-1} + 2a_{2,i-1}(x_i-x_{i-1})+3a_{3,i-1}(x_i-x_{i-1})^2$\n",
        "\n",
        "$S'_{3,i-1}(x_i) = a_{1,i}+2a_{2,i-1}h_{i-1}+3a_{3,i-1}h_{i-1}^2$\n",
        "\n",
        "$(f_{i+1}-f_i = \\Delta{f}_, m_{i+1}-m_i = \\Delta{m})$\n",
        "\n",
        "$S'_{3,i-1}(x_i) = (\\dfrac{1}{h_i}\\Delta{f_{i-1}}-\\dfrac{h_i}{2}m_{i-1}-\\dfrac{h_i}{6}\\Delta{m_{i-1}}) + m_{i-1}h_{i}+\\dfrac{\\Delta{m_{i-1}}}{2h_i}h_{i}^2$\n",
        "\n",
        "$\\dfrac{1}{h_{i+1}}\\Delta{f_i}-\\dfrac{h_{i+1}}{2}m_i-\\dfrac{h_{i+1}}{6}\\Delta{m_i}=(\\dfrac{1}{h_i}\\Delta{f_{i-1}}-\\dfrac{h_i}{2}m_{i-1}-\\dfrac{h_i}{6}\\Delta{m_{i-1}}) + m_{i-1}h_{i}+\\dfrac{\\Delta{m_{i-1}}}{2}h_{i}$\n",
        "\n",
        "$\\dfrac{1}{h_{i+1}}\\Delta{f_i}-\\dfrac{1}{h_i}\\Delta{f_{i-1}}=\\dfrac{h_{i+1}}{2}m_i+\\dfrac{h_{i+1}}{6}\\Delta{m_i}-\\dfrac{h_i}{2}m_{i-1}-\\dfrac{h_i}{6}\\Delta{m_{i-1}} + m_{i-1}h_{i}+\\dfrac{\\Delta{m_{i-1}}}{2}h_{i}$\n",
        "\n",
        "$\\dfrac{1}{h_{i+1}}\\Delta{f_i}-\\dfrac{1}{h_i}\\Delta{f_{i-1}}=\\dfrac{h_{i+1}}{2}m_i+\\dfrac{h_{i+1}}{6}m_{i+1}-\\dfrac{h_{i+1}}{6}m_i-\\dfrac{h_i}{2}m_{i-1}+ m_{i-1}h_{i}-\\dfrac{h_i}{6}\\Delta{m_{i-1}} +\\dfrac{\\Delta{m_{i-1}}}{2}h_{i}$\n",
        "\n",
        "$\\dfrac{1}{h_{i+1}}\\Delta{f_i}-\\dfrac{1}{h_i}\\Delta{f_{i-1}}=\\dfrac{h_{i+1}}{6}m_{i+1}+\\dfrac{h_{i+1}}{2}m_i-\\dfrac{h_{i+1}}{6}m_i-\\dfrac{h_i}{2}m_{i-1}+ m_{i-1}h_{i}+\\dfrac{3h_{i}-h_i}{6}\\Delta{m_{i-1}}$\n",
        "\n",
        "$\\dfrac{1}{h_{i+1}}\\Delta{f_i}-\\dfrac{1}{h_i}\\Delta{f_{i-1}}=\\dfrac{h_{i+1}}{6}m_{i+1}+\\dfrac{h_{i+1}}{2}m_i-\\dfrac{h_{i+1}}{6}m_i-\\dfrac{h_i}{2}m_{i-1}+ m_{i-1}h_{i}+\\dfrac{h_{i}}{3}m_i-\\dfrac{h_{i}}{3}m_{i-1}$\n",
        "\n",
        "$\\dfrac{1}{h_{i+1}}\\Delta{f_i}-\\dfrac{1}{h_i}\\Delta{f_{i-1}}=\\dfrac{h_{i+1}}{6}m_{i+1}+\\dfrac{3h_{i+1}-h_{i+1}+2h_{i}}{6}m_i+\\dfrac{-3h_i+6h_i-2h_i}{6}m_{i-1}$\n",
        "\n",
        "$\\dfrac{1}{h_{i+1}}\\Delta{f_i}-\\dfrac{1}{h_i}\\Delta{f_{i-1}}=\\dfrac{h_{i+1}}{6}m_{i+1}+\\dfrac{h_{i+1}+h_{i}}{3}m_i+\\dfrac{h_i}{6}m_{i-1}$\n",
        "\n"
      ]
    },
    {
      "cell_type": "markdown",
      "metadata": {
        "id": "1B8OpBjaByz7",
        "colab_type": "text"
      },
      "source": [
        "## 6. Create a system of equations using this formula [Matrix representation. Mathematical formulas]"
      ]
    },
    {
      "cell_type": "markdown",
      "metadata": {
        "id": "Nr5imOxmThiU",
        "colab_type": "text"
      },
      "source": [
        "$$\n",
        "\\begin{bmatrix}\n",
        "\\dfrac{h_1}{6} & \\dfrac{h_2+h_1}{3} & \\dfrac{h_2}{6} & 0 & \\cdots & \\cdots & 0\\\\\n",
        "0 &\\dfrac{h_2}{6} & \\dfrac{h_3+h_2}{3} & \\dfrac{h_3}{6} & 0 & \\cdots & 0 \\\\\n",
        "\\cdots & \\cdots & \\cdots & \\cdots & \\cdots & \\cdots & \\cdots & \\\\\n",
        "0 & \\cdots & 0 &\\dfrac{h_{n-2}}{6} & \\dfrac{h_{n-1}+h_{n-2}}{3} & \\dfrac{h_{n-1}}{6} & 0\\\\\n",
        "0 & \\cdots & \\cdots & 0 &\\dfrac{h_{n-1}}{6} & \\dfrac{h_n+h_{n-1}}{3} & \\dfrac{h_n}{6} \\\\\n",
        "\\end{bmatrix}\n",
        ".\n",
        "\\begin{bmatrix}\n",
        "m_0 \\\\\n",
        "m_1 \\\\\n",
        "\\cdots \\\\\n",
        "m_{n-1} \\\\\n",
        "m_{n} \\\\\n",
        "\\end{bmatrix}\n",
        "=\n",
        "\\begin{bmatrix}\n",
        "\\dfrac{\\Delta{f_1}}{h_2}-\\dfrac{\\Delta{f_0}}{h_1}\\\\\n",
        "\\dfrac{\\Delta{f_2}}{h_3}-\\dfrac{\\Delta{f_1}}{h_2} \\\\\n",
        "\\cdots \\\\\n",
        "\\dfrac{\\Delta{f_{n-2}}}{h_{n-1}}-\\dfrac{\\Delta{f_{n-3}}}{h_{n-2}} \\\\\n",
        "\\dfrac{\\Delta{f_{n-1}}}{h_{n}}-\\dfrac{\\Delta{f_{n-2}}}{h_{n-1}} \\\\\n",
        "\\end{bmatrix}\n",
        "$$"
      ]
    },
    {
      "cell_type": "markdown",
      "metadata": {
        "id": "gzwBkDmyByz_",
        "colab_type": "text"
      },
      "source": [
        "## 7. Explain what is an unknown variable in this system. whether the system is closed with respect to an unknown variable. What is missing for closure. [Text, no more than 200 characters]"
      ]
    },
    {
      "cell_type": "markdown",
      "metadata": {
        "id": "BxpdpxZwdpnv",
        "colab_type": "text"
      },
      "source": [
        "$m_i=S''_{3,i}(x), i\\in[0,n]$ values are unknown. The system is not closed and two additional conditions on boundary derivatives $m_0$ and $m_n$ have to be added. This can be done in two ways: setting m_0 and m_n to zero or apply differential condition for p=3 for first twi intervals and the last two."
      ]
    },
    {
      "cell_type": "markdown",
      "metadata": {
        "id": "iLItmQCKBy0A",
        "colab_type": "text"
      },
      "source": [
        "## 8. Bring this matrix to the appropriate form to use the Tridiagonal matrix algorithm [Mathematical derivation. Use Gauss Elimination]"
      ]
    },
    {
      "cell_type": "markdown",
      "metadata": {
        "id": "HFj4gc6YO1dT",
        "colab_type": "text"
      },
      "source": [
        "Setting $m_0$ and $m_n$ to zero results in following SLAE\n",
        "\n",
        "$$\n",
        "\\begin{bmatrix}\n",
        "\\dfrac{h_2+h_1}{3} & \\dfrac{h_2}{6} & 0 & \\cdots & \\cdots  \\\\\n",
        "\\dfrac{h_2}{6} & \\dfrac{h_3+h_2}{3} & \\dfrac{h_3}{6} & 0 & \\cdots  \\\\\n",
        "\\cdots & \\cdots & \\cdots & \\cdots & \\cdots \\\\\n",
        " \\cdots & 0 &\\dfrac{h_{n-2}}{6} & \\dfrac{h_{n-1}+h_{n-2}}{3} & \\dfrac{h_{n-1}}{6} \\\\\n",
        " \\cdots & \\cdots & 0 &\\dfrac{h_{n-1}}{6} & \\dfrac{h_n+h_{n-1}}{3}\\\\\n",
        "\\end{bmatrix}\n",
        ".\n",
        "\\begin{bmatrix}\n",
        "m_1 \\\\\n",
        "\\cdots \\\\\n",
        "m_{n-1} \\\\\n",
        "\\end{bmatrix}\n",
        "=\n",
        "\\begin{bmatrix}\n",
        "\\dfrac{\\Delta{f_1}}{h_2}-\\dfrac{\\Delta{f_0}}{h_1}\\\\\n",
        "\\dfrac{\\Delta{f_2}}{h_3}-\\dfrac{\\Delta{f_1}}{h_2} \\\\\n",
        "\\cdots \\\\\n",
        "\\dfrac{\\Delta{f_{n-2}}}{h_{n-1}}-\\dfrac{\\Delta{f_{n-3}}}{h_{n-2}} \\\\\n",
        "\\dfrac{\\Delta{f_{n-1}}}{h_{n}}-\\dfrac{\\Delta{f_{n-2}}}{h_{n-1}} \\\\\n",
        "\\end{bmatrix}\n",
        "$$\n",
        "\n",
        "Which can be rewritten as:\n",
        "$$\n",
        "\\begin{bmatrix}\n",
        "-\\beta_1 & \\gamma_1 & 0 & \\cdots & \\cdots  \\\\\n",
        "\\alpha_2 & -\\beta_2 & \\gamma_2 & 0 & \\cdots  \\\\\n",
        "\\cdots & \\cdots & \\cdots & \\cdots & \\cdots \\\\\n",
        " \\cdots & 0 &\\alpha_{n-2} & -\\beta_{n-2} & \\gamma_{n-2}  \\\\\n",
        " \\cdots & \\cdots & 0 & \\alpha_{n-1} & -\\beta_{n-1}\\\\\n",
        "\\end{bmatrix}\n",
        ".\n",
        "\\begin{bmatrix}\n",
        "m_1 \\\\\n",
        "\\cdots \\\\\n",
        "m_{n-1} \\\\\n",
        "\\end{bmatrix}\n",
        "=\n",
        "\\begin{bmatrix}\n",
        "\\delta_1\\\\\n",
        "\\delta_2\\\\\n",
        "\\cdots \\\\\n",
        "\\delta_{n-2} \\\\\n",
        "\\delta_{n-1} \\\\\n",
        "\\end{bmatrix}\n",
        "$$\n",
        "\n",
        "And overall system can be expressed as:\n",
        "\n",
        "$ \\alpha_im_{i-1}  -\\beta_im_i + \\gamma_im_{i+1} = \\delta_i$ \n",
        "\n",
        "Note that since $m_0$ and $m_n$ both are equal to zero $\\alpha_1 = \\gamma_n=0$\n",
        "\n",
        "Forward pass of Gaussian elimination will leave us with P and Q coefficients and a recurrent formula for $m$:\n",
        "\n",
        "$$\n",
        "\\begin{bmatrix}\n",
        "1 & -P_1 & 0 & \\cdots & \\cdots  \\\\\n",
        "0 & 1 & -P_2 & 0 & \\cdots  \\\\\n",
        "\\cdots & \\cdots & \\cdots & \\cdots & \\cdots \\\\\n",
        "\\cdots & \\cdots &0 & 1 & -P_{n-2} \\\\\n",
        "\\cdots & \\cdots & \\cdots & 0 & 1\\\\\n",
        "\\end{bmatrix}\n",
        ".\n",
        "\\begin{bmatrix}\n",
        "m_1 \\\\\n",
        "\\cdots \\\\\n",
        "m_{n-1} \\\\\n",
        "\\end{bmatrix}\n",
        "=\n",
        "\\begin{bmatrix}\n",
        "Q_1\\\\\n",
        "Q_2\\\\\n",
        "\\cdots \\\\\n",
        "Q_{n-2} \\\\\n",
        "Q_{n-1} \\\\\n",
        "\\end{bmatrix}\n",
        "$$\n",
        "\n",
        "$m_i - P_im_{i+1} = Q_i$\n",
        "\n",
        "\n",
        "$m_{i-1} = Q_{i-1}+P_{i-1}m_{i}$\n",
        "\n",
        "Substituting into $\\delta_i$ formula:\n",
        "\n",
        "$ \\delta_i = \\alpha_i(Q_{i-1}+P_{i-1}m_i)  -\\beta_im_i + \\gamma_im_{i+1}$\n",
        "\n",
        "$ \\delta_i - \\gamma_im_{i+1} = \\alpha_iQ_{i-1}+\\alpha_iP_{i-1}m_i-\\beta_im_i $\n",
        "\n",
        "$ \\delta_i - \\gamma_im_{i+1} - \\alpha_iQ_{i-1} = (\\alpha_iP_{i-1}-\\beta_i)m_i $\n",
        "\n",
        "$ \\dfrac{\\delta_i  - \\alpha_iQ_{i-1}}{(\\alpha_iP_{i-1}-\\beta_i)} + \\dfrac{\\gamma_i}{(\\beta_i-\\alpha_iP_{i-1})}m_{i+1} = m_i $\n",
        "\n",
        "This equation has the same form as $m_i = Q_i+P_im_{i+1}$:\n",
        "\n",
        "$ m_i = \\dfrac{\\delta_i  - \\alpha_iQ_{i-1}}{(\\alpha_iP_{i-1}-\\beta_i)} + \\dfrac{\\gamma_i}{(\\beta_i-\\alpha_iP_{i-1})}m_{i+1} $\n",
        "\n",
        "thus\n",
        "\n",
        "$Q_i = \\dfrac{\\delta_i  - \\alpha_iQ_{i-1}}{(\\alpha_iP_{i-1}-\\beta_i)}$\n",
        "\n",
        "$P_i = \\dfrac{\\gamma_i}{(\\beta_i-\\alpha_iP_{i-1})}$\n",
        "\n",
        "How do we calculate $P_1$ and $Q_1$?\n",
        "\n",
        "$P_1 = \\dfrac{\\gamma_1}{(\\beta_1-\\alpha_1P_0)}$\n",
        "\n",
        "$\\alpha_1=0 => P_1 = \\dfrac{\\gamma_1}{\\beta_1}$\n",
        "\n",
        "$Q_1 = \\dfrac{\\delta_1  - \\alpha_1Q_{0}}{(\\alpha_1P_{0}-\\beta_1)}$\n",
        "\n",
        "$\\alpha_1=0 => Q_1 = -\\dfrac{\\delta_1}{\\beta_1}$\n",
        "\n",
        "## 9. Derive formulas of direct pass and reverse pass of Tridiagonal matrix algorithm [Mathematical formals]\n",
        "Calculation of $Q_i$ and $P_i$ is a direct pass of Tridiagonal matrix algorithm.\n",
        "\n",
        "Reverse pass starts off with calculation of $m_n$ in order to do that we need:\n",
        "\n",
        "1)$m_{n-1}= Q_{i-1}+P_{i-1}m_n$ - last P and Q coefficients\n",
        "\n",
        "2)$ \\alpha_nm_{n-1}-\\beta_nm_n + \\gamma_nm_{n+1} = \\delta_n$ - last equation in our system\n",
        "\n",
        "$ \\alpha_n(Q_{n-1}+P_{n-1}m_n) -\\beta_nm_n + \\gamma_nm_{n+1} = \\delta_n$ \n",
        "\n",
        "Since $\\gamma_nm=0$\n",
        "\n",
        "$ \\alpha_n(Q_{n-1}+P_{n-1}m_n) +\\beta_nm_n  = \\delta_n$\n",
        "\n",
        "$ \\alpha_nP_{n-1}m_n+\\beta_nm_n = \\delta_n - \\alpha_nQ_{n-1}$ \n",
        "\n",
        "$ m_n = \\dfrac{\\delta_n - \\alpha_nQ_{n-1}}{\\alpha_nP_{n-1}+\\beta_n} = Q_n$ \n",
        "\n",
        "other $m's$ can be calculated using\n",
        "\n",
        "$m_i = Q_i-P_im_{i+1}$\n",
        "\n"
      ]
    },
    {
      "cell_type": "markdown",
      "metadata": {
        "id": "3W9z93w-By0G",
        "colab_type": "text"
      },
      "source": [
        "## 10. Implement code prototype of the future algorithm implementation. Classes/methods (if you use OOP), functions. The final implementation (on language chosen by you) should not differ from the functions declared in the prototype. [Python code in ipynb]"
      ]
    },
    {
      "cell_type": "code",
      "metadata": {
        "id": "RdWCuOwsYXQP",
        "colab_type": "code",
        "colab": {}
      },
      "source": [
        "x = [1,2,3,4,5,6,7]\n",
        "f = [1,4,9,16,25,36,49]\n",
        "\n",
        "h = [x[i]-x[i-1] for i in range(1,len(x))]\n",
        "\n",
        "alpha = [0]+[h[i]/6 for i in range(1,len(h))]\n",
        "beta = [float(h[i]+h[i-1])/3 for i in range(1,len(h))]\n",
        "gamma = [h[i]/6 for i in range(1,len(h))] + [0]\n",
        "\n",
        "delta = [((f[i]-f[i-1])/h[i-1]-(f[i-1]-f[i-2])/h[i-2]) for i in range(2,len(x))]\n",
        "\n",
        "P = [gamma[0]/beta[0]]\n",
        "Q = [-delta[0]/beta[0]]\n",
        "\n",
        "for i in range(1,len(x)-2):\n",
        "  P.append(gamma[i]/(beta[i]-alpha[i]*P[i-1]))\n",
        "  \n",
        "for i in range(1,len(x)-2):\n",
        "  Q.append((delta[i]-alpha[i]*Q[i-1])/(alpha[i]*P[i-1]-beta[i]))\n",
        "  \n",
        "M = [Q[-1]]\n",
        "\n",
        "for i in range(len(h)-1):\n",
        "  M.append(Q[len(Q)-i-1]-P[len(P)-i-1]*M[i])  \n"
      ],
      "execution_count": 0,
      "outputs": []
    },
    {
      "cell_type": "markdown",
      "metadata": {
        "id": "cZRrhMf2By0H",
        "colab_type": "text"
      },
      "source": [
        "## 11. Derive formula of Cubic Spline method error [Mathematical formulas]"
      ]
    },
    {
      "cell_type": "markdown",
      "metadata": {
        "id": "0vNW2nUFwBAl",
        "colab_type": "text"
      },
      "source": [
        "$\\max{|f(x)-S_{3}(x)|} \\leq C max|f^{(4)}(x)|h^4_{max}$"
      ]
    },
    {
      "cell_type": "markdown",
      "metadata": {
        "id": "1W1R3u7sBy0L",
        "colab_type": "text"
      },
      "source": [
        "## 12. Rate the complexity of the algorithm [Text, and rate in terms of big O, no more than 100 characters]"
      ]
    },
    {
      "cell_type": "markdown",
      "metadata": {
        "id": "kLtJU6iKyrkG",
        "colab_type": "text"
      },
      "source": [
        "$O(N-1)$ where $N$ is the amount of datapoints. Calculations of all coefficients ($h,\\alpha,\\beta,\\gamma,\\delta,P,Q,m$) does not exceed $N-1$ iterations."
      ]
    }
  ]
}